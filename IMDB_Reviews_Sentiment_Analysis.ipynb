{
  "cells": [
    {
      "cell_type": "code",
      "execution_count": 53,
      "metadata": {
        "id": "ixHbnR-S1U1p"
      },
      "outputs": [],
      "source": [
        "#Load the libraries\n",
        "import numpy as np\n",
        "import pandas as pd\n",
        "import seaborn as sns\n",
        "import matplotlib.pyplot as plt\n",
        "import nltk\n",
        "import torch\n",
        "import string\n",
        "from bs4 import BeautifulSoup\n",
        "from nltk.corpus import stopwords\n",
        "from nltk.tokenize import word_tokenize\n",
        "from nltk.stem import PorterStemmer\n",
        "from nltk.probability import FreqDist\n",
        "from sklearn.model_selection import train_test_split\n",
        "from torch.utils.data import DataLoader, TensorDataset\n",
        "import torch.nn as nn\n",
        "from string import punctuation"
      ]
    },
    {
      "cell_type": "markdown",
      "metadata": {
        "id": "3u8Sa0Dw0-PY"
      },
      "source": [
        "## Data preprocessing"
      ]
    },
    {
      "cell_type": "code",
      "execution_count": 54,
      "metadata": {
        "id": "e8K8uRJp07gr"
      },
      "outputs": [],
      "source": [
        "# Load dataset\n",
        "df = pd.read_csv(\"./IMDB Dataset.csv\")\n",
        "# Dataset is made of \"review\" and \"sentiment\""
      ]
    },
    {
      "cell_type": "code",
      "execution_count": 55,
      "metadata": {
        "colab": {
          "base_uri": "https://localhost:8080/",
          "height": 175
        },
        "id": "HVvI0RkG4NHG",
        "outputId": "eb6cf483-92a9-46a1-80ba-01d118aa0a2d"
      },
      "outputs": [
        {
          "data": {
            "text/html": [
              "<div>\n",
              "<style scoped>\n",
              "    .dataframe tbody tr th:only-of-type {\n",
              "        vertical-align: middle;\n",
              "    }\n",
              "\n",
              "    .dataframe tbody tr th {\n",
              "        vertical-align: top;\n",
              "    }\n",
              "\n",
              "    .dataframe thead th {\n",
              "        text-align: right;\n",
              "    }\n",
              "</style>\n",
              "<table border=\"1\" class=\"dataframe\">\n",
              "  <thead>\n",
              "    <tr style=\"text-align: right;\">\n",
              "      <th></th>\n",
              "      <th>review</th>\n",
              "      <th>sentiment</th>\n",
              "    </tr>\n",
              "  </thead>\n",
              "  <tbody>\n",
              "    <tr>\n",
              "      <th>count</th>\n",
              "      <td>50000</td>\n",
              "      <td>50000</td>\n",
              "    </tr>\n",
              "    <tr>\n",
              "      <th>unique</th>\n",
              "      <td>49582</td>\n",
              "      <td>2</td>\n",
              "    </tr>\n",
              "    <tr>\n",
              "      <th>top</th>\n",
              "      <td>Loved today's show!!! It was a variety and not...</td>\n",
              "      <td>positive</td>\n",
              "    </tr>\n",
              "    <tr>\n",
              "      <th>freq</th>\n",
              "      <td>5</td>\n",
              "      <td>25000</td>\n",
              "    </tr>\n",
              "  </tbody>\n",
              "</table>\n",
              "</div>"
            ],
            "text/plain": [
              "                                                   review sentiment\n",
              "count                                               50000     50000\n",
              "unique                                              49582         2\n",
              "top     Loved today's show!!! It was a variety and not...  positive\n",
              "freq                                                    5     25000"
            ]
          },
          "execution_count": 55,
          "metadata": {},
          "output_type": "execute_result"
        }
      ],
      "source": [
        "df.describe()"
      ]
    },
    {
      "cell_type": "code",
      "execution_count": 56,
      "metadata": {
        "colab": {
          "base_uri": "https://localhost:8080/",
          "height": 206
        },
        "id": "uen9EpCF_TZC",
        "outputId": "290b3cff-3cc0-4028-f317-e634b6fdfdd4"
      },
      "outputs": [
        {
          "data": {
            "text/html": [
              "<div>\n",
              "<style scoped>\n",
              "    .dataframe tbody tr th:only-of-type {\n",
              "        vertical-align: middle;\n",
              "    }\n",
              "\n",
              "    .dataframe tbody tr th {\n",
              "        vertical-align: top;\n",
              "    }\n",
              "\n",
              "    .dataframe thead th {\n",
              "        text-align: right;\n",
              "    }\n",
              "</style>\n",
              "<table border=\"1\" class=\"dataframe\">\n",
              "  <thead>\n",
              "    <tr style=\"text-align: right;\">\n",
              "      <th></th>\n",
              "      <th>review</th>\n",
              "      <th>sentiment</th>\n",
              "    </tr>\n",
              "  </thead>\n",
              "  <tbody>\n",
              "    <tr>\n",
              "      <th>0</th>\n",
              "      <td>One of the other reviewers has mentioned that ...</td>\n",
              "      <td>positive</td>\n",
              "    </tr>\n",
              "    <tr>\n",
              "      <th>1</th>\n",
              "      <td>A wonderful little production. &lt;br /&gt;&lt;br /&gt;The...</td>\n",
              "      <td>positive</td>\n",
              "    </tr>\n",
              "    <tr>\n",
              "      <th>2</th>\n",
              "      <td>I thought this was a wonderful way to spend ti...</td>\n",
              "      <td>positive</td>\n",
              "    </tr>\n",
              "    <tr>\n",
              "      <th>3</th>\n",
              "      <td>Basically there's a family where a little boy ...</td>\n",
              "      <td>negative</td>\n",
              "    </tr>\n",
              "    <tr>\n",
              "      <th>4</th>\n",
              "      <td>Petter Mattei's \"Love in the Time of Money\" is...</td>\n",
              "      <td>positive</td>\n",
              "    </tr>\n",
              "  </tbody>\n",
              "</table>\n",
              "</div>"
            ],
            "text/plain": [
              "                                              review sentiment\n",
              "0  One of the other reviewers has mentioned that ...  positive\n",
              "1  A wonderful little production. <br /><br />The...  positive\n",
              "2  I thought this was a wonderful way to spend ti...  positive\n",
              "3  Basically there's a family where a little boy ...  negative\n",
              "4  Petter Mattei's \"Love in the Time of Money\" is...  positive"
            ]
          },
          "execution_count": 56,
          "metadata": {},
          "output_type": "execute_result"
        }
      ],
      "source": [
        "df.head(5)"
      ]
    },
    {
      "cell_type": "code",
      "execution_count": 57,
      "metadata": {
        "colab": {
          "base_uri": "https://localhost:8080/"
        },
        "id": "Z2hvBpqd5blB",
        "outputId": "9a4853dc-79f1-43a4-b4fb-f93ddcea2457"
      },
      "outputs": [
        {
          "data": {
            "text/plain": [
              "positive    25000\n",
              "negative    25000\n",
              "Name: sentiment, dtype: int64"
            ]
          },
          "execution_count": 57,
          "metadata": {},
          "output_type": "execute_result"
        }
      ],
      "source": [
        "df['sentiment'].value_counts()"
      ]
    },
    {
      "cell_type": "code",
      "execution_count": 58,
      "metadata": {
        "id": "v-wGL8W9L3f4"
      },
      "outputs": [],
      "source": [
        "# Remove the duplicates because they are quite certainly errors or double \n",
        "# insertions. Even worse if the same review has tewo different sentiments.\n",
        "df = df.drop_duplicates()"
      ]
    },
    {
      "cell_type": "code",
      "execution_count": 59,
      "metadata": {
        "colab": {
          "base_uri": "https://localhost:8080/",
          "height": 175
        },
        "id": "rLuQExZzL2nT",
        "outputId": "369206cf-c4f4-4a97-c690-e500cfbb2326"
      },
      "outputs": [
        {
          "data": {
            "text/html": [
              "<div>\n",
              "<style scoped>\n",
              "    .dataframe tbody tr th:only-of-type {\n",
              "        vertical-align: middle;\n",
              "    }\n",
              "\n",
              "    .dataframe tbody tr th {\n",
              "        vertical-align: top;\n",
              "    }\n",
              "\n",
              "    .dataframe thead th {\n",
              "        text-align: right;\n",
              "    }\n",
              "</style>\n",
              "<table border=\"1\" class=\"dataframe\">\n",
              "  <thead>\n",
              "    <tr style=\"text-align: right;\">\n",
              "      <th></th>\n",
              "      <th>review</th>\n",
              "      <th>sentiment</th>\n",
              "    </tr>\n",
              "  </thead>\n",
              "  <tbody>\n",
              "    <tr>\n",
              "      <th>count</th>\n",
              "      <td>49582</td>\n",
              "      <td>49582</td>\n",
              "    </tr>\n",
              "    <tr>\n",
              "      <th>unique</th>\n",
              "      <td>49582</td>\n",
              "      <td>2</td>\n",
              "    </tr>\n",
              "    <tr>\n",
              "      <th>top</th>\n",
              "      <td>One of the other reviewers has mentioned that ...</td>\n",
              "      <td>positive</td>\n",
              "    </tr>\n",
              "    <tr>\n",
              "      <th>freq</th>\n",
              "      <td>1</td>\n",
              "      <td>24884</td>\n",
              "    </tr>\n",
              "  </tbody>\n",
              "</table>\n",
              "</div>"
            ],
            "text/plain": [
              "                                                   review sentiment\n",
              "count                                               49582     49582\n",
              "unique                                              49582         2\n",
              "top     One of the other reviewers has mentioned that ...  positive\n",
              "freq                                                    1     24884"
            ]
          },
          "execution_count": 59,
          "metadata": {},
          "output_type": "execute_result"
        }
      ],
      "source": [
        "df.describe()"
      ]
    },
    {
      "cell_type": "code",
      "execution_count": 60,
      "metadata": {
        "id": "m-GqqDOm--1S"
      },
      "outputs": [],
      "source": [
        "# Every review is transformed to lowercase\n",
        "df.review = df.review.apply(lambda x: x.lower())"
      ]
    },
    {
      "cell_type": "code",
      "execution_count": 61,
      "metadata": {
        "colab": {
          "base_uri": "https://localhost:8080/",
          "height": 206
        },
        "id": "FRN0CQXY_QZb",
        "outputId": "93c5c039-6055-453a-9fd4-29e066cd7a94"
      },
      "outputs": [
        {
          "data": {
            "text/html": [
              "<div>\n",
              "<style scoped>\n",
              "    .dataframe tbody tr th:only-of-type {\n",
              "        vertical-align: middle;\n",
              "    }\n",
              "\n",
              "    .dataframe tbody tr th {\n",
              "        vertical-align: top;\n",
              "    }\n",
              "\n",
              "    .dataframe thead th {\n",
              "        text-align: right;\n",
              "    }\n",
              "</style>\n",
              "<table border=\"1\" class=\"dataframe\">\n",
              "  <thead>\n",
              "    <tr style=\"text-align: right;\">\n",
              "      <th></th>\n",
              "      <th>review</th>\n",
              "      <th>sentiment</th>\n",
              "    </tr>\n",
              "  </thead>\n",
              "  <tbody>\n",
              "    <tr>\n",
              "      <th>0</th>\n",
              "      <td>one of the other reviewers has mentioned that ...</td>\n",
              "      <td>positive</td>\n",
              "    </tr>\n",
              "    <tr>\n",
              "      <th>1</th>\n",
              "      <td>a wonderful little production. &lt;br /&gt;&lt;br /&gt;the...</td>\n",
              "      <td>positive</td>\n",
              "    </tr>\n",
              "    <tr>\n",
              "      <th>2</th>\n",
              "      <td>i thought this was a wonderful way to spend ti...</td>\n",
              "      <td>positive</td>\n",
              "    </tr>\n",
              "    <tr>\n",
              "      <th>3</th>\n",
              "      <td>basically there's a family where a little boy ...</td>\n",
              "      <td>negative</td>\n",
              "    </tr>\n",
              "    <tr>\n",
              "      <th>4</th>\n",
              "      <td>petter mattei's \"love in the time of money\" is...</td>\n",
              "      <td>positive</td>\n",
              "    </tr>\n",
              "  </tbody>\n",
              "</table>\n",
              "</div>"
            ],
            "text/plain": [
              "                                              review sentiment\n",
              "0  one of the other reviewers has mentioned that ...  positive\n",
              "1  a wonderful little production. <br /><br />the...  positive\n",
              "2  i thought this was a wonderful way to spend ti...  positive\n",
              "3  basically there's a family where a little boy ...  negative\n",
              "4  petter mattei's \"love in the time of money\" is...  positive"
            ]
          },
          "execution_count": 61,
          "metadata": {},
          "output_type": "execute_result"
        }
      ],
      "source": [
        "df.head(5)"
      ]
    },
    {
      "cell_type": "code",
      "execution_count": 62,
      "metadata": {
        "id": "xKE4eOoRDgCG"
      },
      "outputs": [
        {
          "name": "stderr",
          "output_type": "stream",
          "text": [
            "/opt/anaconda3/lib/python3.8/site-packages/bs4/__init__.py:435: MarkupResemblesLocatorWarning: The input looks more like a filename than markup. You may want to open this file and pass the filehandle into Beautiful Soup.\n",
            "  warnings.warn(\n"
          ]
        }
      ],
      "source": [
        "# Remove HTML\n",
        "df.review = df.review.apply(lambda x: BeautifulSoup(x).get_text()) "
      ]
    },
    {
      "cell_type": "code",
      "execution_count": 63,
      "metadata": {
        "id": "VzxiXszg_0_9"
      },
      "outputs": [],
      "source": [
        "# Remove punctuation\n",
        "df.review = df.review.apply(lambda x: x.translate(str.maketrans('', '', string.punctuation))) "
      ]
    },
    {
      "cell_type": "code",
      "execution_count": 64,
      "metadata": {
        "colab": {
          "base_uri": "https://localhost:8080/",
          "height": 206
        },
        "id": "r2Q1lhP8Be9z",
        "outputId": "695353e3-ce15-4d71-a0dd-d881ff4c902b"
      },
      "outputs": [
        {
          "data": {
            "text/html": [
              "<div>\n",
              "<style scoped>\n",
              "    .dataframe tbody tr th:only-of-type {\n",
              "        vertical-align: middle;\n",
              "    }\n",
              "\n",
              "    .dataframe tbody tr th {\n",
              "        vertical-align: top;\n",
              "    }\n",
              "\n",
              "    .dataframe thead th {\n",
              "        text-align: right;\n",
              "    }\n",
              "</style>\n",
              "<table border=\"1\" class=\"dataframe\">\n",
              "  <thead>\n",
              "    <tr style=\"text-align: right;\">\n",
              "      <th></th>\n",
              "      <th>review</th>\n",
              "      <th>sentiment</th>\n",
              "    </tr>\n",
              "  </thead>\n",
              "  <tbody>\n",
              "    <tr>\n",
              "      <th>0</th>\n",
              "      <td>one of the other reviewers has mentioned that ...</td>\n",
              "      <td>positive</td>\n",
              "    </tr>\n",
              "    <tr>\n",
              "      <th>1</th>\n",
              "      <td>a wonderful little production the filming tech...</td>\n",
              "      <td>positive</td>\n",
              "    </tr>\n",
              "    <tr>\n",
              "      <th>2</th>\n",
              "      <td>i thought this was a wonderful way to spend ti...</td>\n",
              "      <td>positive</td>\n",
              "    </tr>\n",
              "    <tr>\n",
              "      <th>3</th>\n",
              "      <td>basically theres a family where a little boy j...</td>\n",
              "      <td>negative</td>\n",
              "    </tr>\n",
              "    <tr>\n",
              "      <th>4</th>\n",
              "      <td>petter matteis love in the time of money is a ...</td>\n",
              "      <td>positive</td>\n",
              "    </tr>\n",
              "  </tbody>\n",
              "</table>\n",
              "</div>"
            ],
            "text/plain": [
              "                                              review sentiment\n",
              "0  one of the other reviewers has mentioned that ...  positive\n",
              "1  a wonderful little production the filming tech...  positive\n",
              "2  i thought this was a wonderful way to spend ti...  positive\n",
              "3  basically theres a family where a little boy j...  negative\n",
              "4  petter matteis love in the time of money is a ...  positive"
            ]
          },
          "execution_count": 64,
          "metadata": {},
          "output_type": "execute_result"
        }
      ],
      "source": [
        "df.head(5)"
      ]
    },
    {
      "cell_type": "code",
      "execution_count": 65,
      "metadata": {
        "colab": {
          "base_uri": "https://localhost:8080/"
        },
        "id": "qCCaiJoGlLR4",
        "outputId": "7e64045f-e160-47ba-af42-163c1156d68b"
      },
      "outputs": [
        {
          "name": "stderr",
          "output_type": "stream",
          "text": [
            "[nltk_data] Downloading package punkt to /Users/greta/nltk_data...\n",
            "[nltk_data]   Package punkt is already up-to-date!\n"
          ]
        },
        {
          "data": {
            "text/plain": [
              "True"
            ]
          },
          "execution_count": 65,
          "metadata": {},
          "output_type": "execute_result"
        }
      ],
      "source": [
        "nltk.download('punkt')"
      ]
    },
    {
      "cell_type": "code",
      "execution_count": 66,
      "metadata": {
        "id": "5UEZ029WCJzE"
      },
      "outputs": [],
      "source": [
        "# Tokenize the reviews\n",
        "df.review = df.review.apply(lambda x: nltk.word_tokenize(x)) "
      ]
    },
    {
      "cell_type": "code",
      "execution_count": 67,
      "metadata": {
        "colab": {
          "base_uri": "https://localhost:8080/",
          "height": 206
        },
        "id": "667MNAw0JNT-",
        "outputId": "365ab7ad-4972-4605-9a50-8572e9b9f961"
      },
      "outputs": [
        {
          "data": {
            "text/html": [
              "<div>\n",
              "<style scoped>\n",
              "    .dataframe tbody tr th:only-of-type {\n",
              "        vertical-align: middle;\n",
              "    }\n",
              "\n",
              "    .dataframe tbody tr th {\n",
              "        vertical-align: top;\n",
              "    }\n",
              "\n",
              "    .dataframe thead th {\n",
              "        text-align: right;\n",
              "    }\n",
              "</style>\n",
              "<table border=\"1\" class=\"dataframe\">\n",
              "  <thead>\n",
              "    <tr style=\"text-align: right;\">\n",
              "      <th></th>\n",
              "      <th>review</th>\n",
              "      <th>sentiment</th>\n",
              "    </tr>\n",
              "  </thead>\n",
              "  <tbody>\n",
              "    <tr>\n",
              "      <th>0</th>\n",
              "      <td>[one, of, the, other, reviewers, has, mentione...</td>\n",
              "      <td>positive</td>\n",
              "    </tr>\n",
              "    <tr>\n",
              "      <th>1</th>\n",
              "      <td>[a, wonderful, little, production, the, filmin...</td>\n",
              "      <td>positive</td>\n",
              "    </tr>\n",
              "    <tr>\n",
              "      <th>2</th>\n",
              "      <td>[i, thought, this, was, a, wonderful, way, to,...</td>\n",
              "      <td>positive</td>\n",
              "    </tr>\n",
              "    <tr>\n",
              "      <th>3</th>\n",
              "      <td>[basically, theres, a, family, where, a, littl...</td>\n",
              "      <td>negative</td>\n",
              "    </tr>\n",
              "    <tr>\n",
              "      <th>4</th>\n",
              "      <td>[petter, matteis, love, in, the, time, of, mon...</td>\n",
              "      <td>positive</td>\n",
              "    </tr>\n",
              "  </tbody>\n",
              "</table>\n",
              "</div>"
            ],
            "text/plain": [
              "                                              review sentiment\n",
              "0  [one, of, the, other, reviewers, has, mentione...  positive\n",
              "1  [a, wonderful, little, production, the, filmin...  positive\n",
              "2  [i, thought, this, was, a, wonderful, way, to,...  positive\n",
              "3  [basically, theres, a, family, where, a, littl...  negative\n",
              "4  [petter, matteis, love, in, the, time, of, mon...  positive"
            ]
          },
          "execution_count": 67,
          "metadata": {},
          "output_type": "execute_result"
        }
      ],
      "source": [
        "df.head(5)"
      ]
    },
    {
      "cell_type": "code",
      "execution_count": 68,
      "metadata": {
        "colab": {
          "base_uri": "https://localhost:8080/",
          "height": 426
        },
        "id": "QvBKTz3lK38u",
        "outputId": "7735cac8-ade7-459e-899c-bd38dc525fbf"
      },
      "outputs": [
        {
          "data": {
            "image/png": "[encoded data removed]",
            "text/plain": [
              "<Figure size 432x288 with 1 Axes>"
            ]
          },
          "metadata": {
            "needs_background": "light"
          },
          "output_type": "display_data"
        },
        {
          "data": {
            "text/plain": [
              "count    49582.000000\n",
              "mean       226.529890\n",
              "std        167.886738\n",
              "min          4.000000\n",
              "25%        124.000000\n",
              "50%        170.000000\n",
              "75%        275.000000\n",
              "max       2450.000000\n",
              "dtype: float64"
            ]
          },
          "execution_count": 68,
          "metadata": {},
          "output_type": "execute_result"
        }
      ],
      "source": [
        "# Anlaysis on reviews' length\n",
        "lengths = [len(i) for i in df.review]\n",
        "pd.Series(lengths).hist()\n",
        "plt.show()\n",
        "pd.Series(lengths).describe()"
      ]
    },
    {
      "cell_type": "code",
      "execution_count": 69,
      "metadata": {
        "id": "VhOsK5YCK_2p"
      },
      "outputs": [],
      "source": [
        "# Split dataset in postive and negative for analysis\n",
        "positive_df = df[df['sentiment'] == 'positive'] \n",
        "negative_df = df[df['sentiment'] == 'negative'] "
      ]
    },
    {
      "cell_type": "code",
      "execution_count": 70,
      "metadata": {
        "colab": {
          "base_uri": "https://localhost:8080/",
          "height": 175
        },
        "id": "VqzMUp1i8Yye",
        "outputId": "6831edd6-9a96-4dcc-9c0e-13c99db08c04"
      },
      "outputs": [
        {
          "data": {
            "text/html": [
              "<div>\n",
              "<style scoped>\n",
              "    .dataframe tbody tr th:only-of-type {\n",
              "        vertical-align: middle;\n",
              "    }\n",
              "\n",
              "    .dataframe tbody tr th {\n",
              "        vertical-align: top;\n",
              "    }\n",
              "\n",
              "    .dataframe thead th {\n",
              "        text-align: right;\n",
              "    }\n",
              "</style>\n",
              "<table border=\"1\" class=\"dataframe\">\n",
              "  <thead>\n",
              "    <tr style=\"text-align: right;\">\n",
              "      <th></th>\n",
              "      <th>review</th>\n",
              "      <th>sentiment</th>\n",
              "    </tr>\n",
              "  </thead>\n",
              "  <tbody>\n",
              "    <tr>\n",
              "      <th>count</th>\n",
              "      <td>24884</td>\n",
              "      <td>24884</td>\n",
              "    </tr>\n",
              "    <tr>\n",
              "      <th>unique</th>\n",
              "      <td>24884</td>\n",
              "      <td>1</td>\n",
              "    </tr>\n",
              "    <tr>\n",
              "      <th>top</th>\n",
              "      <td>[one, of, the, other, reviewers, has, mentione...</td>\n",
              "      <td>positive</td>\n",
              "    </tr>\n",
              "    <tr>\n",
              "      <th>freq</th>\n",
              "      <td>1</td>\n",
              "      <td>24884</td>\n",
              "    </tr>\n",
              "  </tbody>\n",
              "</table>\n",
              "</div>"
            ],
            "text/plain": [
              "                                                   review sentiment\n",
              "count                                               24884     24884\n",
              "unique                                              24884         1\n",
              "top     [one, of, the, other, reviewers, has, mentione...  positive\n",
              "freq                                                    1     24884"
            ]
          },
          "execution_count": 70,
          "metadata": {},
          "output_type": "execute_result"
        }
      ],
      "source": [
        "positive_df.describe()"
      ]
    },
    {
      "cell_type": "code",
      "execution_count": 71,
      "metadata": {
        "colab": {
          "base_uri": "https://localhost:8080/",
          "height": 175
        },
        "id": "Qra_8OvW8JHZ",
        "outputId": "455498fb-d1b3-4537-b2bf-377a0b232a09"
      },
      "outputs": [
        {
          "data": {
            "text/html": [
              "<div>\n",
              "<style scoped>\n",
              "    .dataframe tbody tr th:only-of-type {\n",
              "        vertical-align: middle;\n",
              "    }\n",
              "\n",
              "    .dataframe tbody tr th {\n",
              "        vertical-align: top;\n",
              "    }\n",
              "\n",
              "    .dataframe thead th {\n",
              "        text-align: right;\n",
              "    }\n",
              "</style>\n",
              "<table border=\"1\" class=\"dataframe\">\n",
              "  <thead>\n",
              "    <tr style=\"text-align: right;\">\n",
              "      <th></th>\n",
              "      <th>review</th>\n",
              "      <th>sentiment</th>\n",
              "    </tr>\n",
              "  </thead>\n",
              "  <tbody>\n",
              "    <tr>\n",
              "      <th>count</th>\n",
              "      <td>24698</td>\n",
              "      <td>24698</td>\n",
              "    </tr>\n",
              "    <tr>\n",
              "      <th>unique</th>\n",
              "      <td>24696</td>\n",
              "      <td>1</td>\n",
              "    </tr>\n",
              "    <tr>\n",
              "      <th>top</th>\n",
              "      <td>[this, movie, got, off, to, an, interesting, s...</td>\n",
              "      <td>negative</td>\n",
              "    </tr>\n",
              "    <tr>\n",
              "      <th>freq</th>\n",
              "      <td>2</td>\n",
              "      <td>24698</td>\n",
              "    </tr>\n",
              "  </tbody>\n",
              "</table>\n",
              "</div>"
            ],
            "text/plain": [
              "                                                   review sentiment\n",
              "count                                               24698     24698\n",
              "unique                                              24696         1\n",
              "top     [this, movie, got, off, to, an, interesting, s...  negative\n",
              "freq                                                    2     24698"
            ]
          },
          "execution_count": 71,
          "metadata": {},
          "output_type": "execute_result"
        }
      ],
      "source": [
        "negative_df.describe()"
      ]
    },
    {
      "cell_type": "code",
      "execution_count": 72,
      "metadata": {
        "colab": {
          "base_uri": "https://localhost:8080/",
          "height": 175
        },
        "id": "O9umUF6-LhGA",
        "outputId": "6db2d97d-5f6b-405d-df8f-d14fdc4e4f47"
      },
      "outputs": [
        {
          "data": {
            "text/html": [
              "<div>\n",
              "<style scoped>\n",
              "    .dataframe tbody tr th:only-of-type {\n",
              "        vertical-align: middle;\n",
              "    }\n",
              "\n",
              "    .dataframe tbody tr th {\n",
              "        vertical-align: top;\n",
              "    }\n",
              "\n",
              "    .dataframe thead th {\n",
              "        text-align: right;\n",
              "    }\n",
              "</style>\n",
              "<table border=\"1\" class=\"dataframe\">\n",
              "  <thead>\n",
              "    <tr style=\"text-align: right;\">\n",
              "      <th></th>\n",
              "      <th>review</th>\n",
              "      <th>sentiment</th>\n",
              "    </tr>\n",
              "  </thead>\n",
              "  <tbody>\n",
              "    <tr>\n",
              "      <th>count</th>\n",
              "      <td>49582</td>\n",
              "      <td>49582</td>\n",
              "    </tr>\n",
              "    <tr>\n",
              "      <th>unique</th>\n",
              "      <td>49580</td>\n",
              "      <td>2</td>\n",
              "    </tr>\n",
              "    <tr>\n",
              "      <th>top</th>\n",
              "      <td>[this, is, yet, another, pseudointellectual, l...</td>\n",
              "      <td>positive</td>\n",
              "    </tr>\n",
              "    <tr>\n",
              "      <th>freq</th>\n",
              "      <td>2</td>\n",
              "      <td>24884</td>\n",
              "    </tr>\n",
              "  </tbody>\n",
              "</table>\n",
              "</div>"
            ],
            "text/plain": [
              "                                                   review sentiment\n",
              "count                                               49582     49582\n",
              "unique                                              49580         2\n",
              "top     [this, is, yet, another, pseudointellectual, l...  positive\n",
              "freq                                                    2     24884"
            ]
          },
          "execution_count": 72,
          "metadata": {},
          "output_type": "execute_result"
        }
      ],
      "source": [
        "df.describe()"
      ]
    },
    {
      "cell_type": "code",
      "execution_count": 73,
      "metadata": {
        "id": "R4E1fBRbQcTt"
      },
      "outputs": [],
      "source": [
        "# Word analyisis \n",
        "postive_words_with_stop_words = positive_df.review.tolist()\n",
        "postive_words_with_stop_words = [item for sublist in postive_words_with_stop_words for item in sublist]\n",
        "negative_df_with_stop_words = negative_df.review.tolist()\n",
        "negative_df_with_stop_words = [item for sublist in negative_df_with_stop_words for item in sublist]\n",
        "words_with_stop_words = df.review.tolist()\n",
        "words_with_stop_words = [item for sublist in words_with_stop_words for item in sublist]"
      ]
    },
    {
      "cell_type": "code",
      "execution_count": 74,
      "metadata": {
        "colab": {
          "base_uri": "https://localhost:8080/"
        },
        "id": "oKhhdJRpTgnV",
        "outputId": "eb40d116-45b9-4e49-b735-cb646e1e73b1"
      },
      "outputs": [
        {
          "name": "stdout",
          "output_type": "stream",
          "text": [
            "Number of words with stop words in the postive dataset 5684242\n",
            "Number of words with stop words in the negative dataset 5547563\n",
            "Number of words with stop words in the entire dataset 11231805\n"
          ]
        }
      ],
      "source": [
        "print(\"Number of words with stop words in the postive dataset \" + str(len(postive_words_with_stop_words)))\n",
        "print(\"Number of words with stop words in the negative dataset \" + str(len(negative_df_with_stop_words)))\n",
        "print(\"Number of words with stop words in the entire dataset \" + str(len(words_with_stop_words)))"
      ]
    },
    {
      "cell_type": "code",
      "execution_count": 75,
      "metadata": {
        "colab": {
          "base_uri": "https://localhost:8080/",
          "height": 318
        },
        "id": "WeelhJFeSpDI",
        "outputId": "80bbd18b-7295-4f71-be74-eb3b131bbf49"
      },
      "outputs": [
        {
          "data": {
            "image/png": "[encoded data removed]",
            "text/plain": [
              "<Figure size 432x288 with 1 Axes>"
            ]
          },
          "metadata": {
            "needs_background": "light"
          },
          "output_type": "display_data"
        },
        {
          "data": {
            "text/plain": [
              "<AxesSubplot:xlabel='Samples', ylabel='Counts'>"
            ]
          },
          "execution_count": 75,
          "metadata": {},
          "output_type": "execute_result"
        }
      ],
      "source": [
        "# Analysis of word frequency\n",
        "data_analysis = nltk.FreqDist(postive_words_with_stop_words)\n",
        "data_analysis.plot(25, cumulative=False)"
      ]
    },
    {
      "cell_type": "code",
      "execution_count": 76,
      "metadata": {
        "colab": {
          "base_uri": "https://localhost:8080/",
          "height": 318
        },
        "id": "yWGuw_IWTIUg",
        "outputId": "eff34a1d-c5c3-42f8-9d08-c5a1f963e1a1"
      },
      "outputs": [
        {
          "data": {
            "image/png": "[encoded data removed]",
            "text/plain": [
              "<Figure size 432x288 with 1 Axes>"
            ]
          },
          "metadata": {
            "needs_background": "light"
          },
          "output_type": "display_data"
        },
        {
          "data": {
            "text/plain": [
              "<AxesSubplot:xlabel='Samples', ylabel='Counts'>"
            ]
          },
          "execution_count": 76,
          "metadata": {},
          "output_type": "execute_result"
        }
      ],
      "source": [
        "data_analysis = nltk.FreqDist(negative_df_with_stop_words)\n",
        "data_analysis.plot(25, cumulative=False)"
      ]
    },
    {
      "cell_type": "code",
      "execution_count": 77,
      "metadata": {
        "colab": {
          "base_uri": "https://localhost:8080/",
          "height": 318
        },
        "id": "4nUlbICpTWpX",
        "outputId": "6fcae411-5615-4426-ff40-6ae2745a556c"
      },
      "outputs": [
        {
          "data": {
            "image/png": "[encoded data removed]",
            "text/plain": [
              "<Figure size 432x288 with 1 Axes>"
            ]
          },
          "metadata": {
            "needs_background": "light"
          },
          "output_type": "display_data"
        },
        {
          "data": {
            "text/plain": [
              "<AxesSubplot:xlabel='Samples', ylabel='Counts'>"
            ]
          },
          "execution_count": 77,
          "metadata": {},
          "output_type": "execute_result"
        }
      ],
      "source": [
        "data_analysis = nltk.FreqDist(words_with_stop_words)\n",
        "data_analysis.plot(25, cumulative=False)"
      ]
    },
    {
      "cell_type": "markdown",
      "metadata": {
        "id": "oyzT9GTdT5NS"
      },
      "source": [
        "This analysis is heavily influenced by the presence of stop words, that, as we can see from the plot, are very noisy and frequent. So, the next step is to remove them."
      ]
    },
    {
      "cell_type": "code",
      "execution_count": 78,
      "metadata": {
        "colab": {
          "base_uri": "https://localhost:8080/"
        },
        "id": "ex4DA8uKTZne",
        "outputId": "988384c6-bbeb-40c0-a9da-ad37fecac9e5"
      },
      "outputs": [
        {
          "name": "stderr",
          "output_type": "stream",
          "text": [
            "[nltk_data] Downloading package stopwords to /Users/greta/nltk_data...\n",
            "[nltk_data]   Package stopwords is already up-to-date!\n"
          ]
        }
      ],
      "source": [
        "# Create stopwords set\n",
        "nltk.download('stopwords')\n",
        "stop_words = set(stopwords.words(\"english\"))\n",
        "# This stop word could be important in sentences like \"not good\"\n",
        "stop_words = stop_words - {'not', \"aren't\", \"couldn't\", \"didn't\", \"don't\", \\\n",
        "                   \"hadn't\", \"hasn't\", \"isn't\"}"
      ]
    },
    {
      "cell_type": "code",
      "execution_count": 79,
      "metadata": {
        "id": "6CTXN5UaVhTn"
      },
      "outputs": [],
      "source": [
        "# Remove stopwords\n",
        "df.review = df.review.apply(lambda x: [item for item in x if item not in stop_words]) # Remove stop words"
      ]
    },
    {
      "cell_type": "code",
      "execution_count": 80,
      "metadata": {
        "id": "K71OIhsZ5zYw"
      },
      "outputs": [],
      "source": [
        "# Stemming\n",
        "ps = PorterStemmer()\n",
        "df.review = df.review.apply(lambda x: [ps.stem(word) for word in x]) "
      ]
    },
    {
      "cell_type": "code",
      "execution_count": 81,
      "metadata": {
        "id": "wrTyS9NGcT85"
      },
      "outputs": [],
      "source": [
        "# Split dataset for analysis\n",
        "positive_df = df[df['sentiment'] == 'positive'] \n",
        "negative_df = df[df['sentiment'] == 'negative'] "
      ]
    },
    {
      "cell_type": "code",
      "execution_count": 82,
      "metadata": {
        "colab": {
          "base_uri": "https://localhost:8080/",
          "height": 175
        },
        "id": "2-jdln9F8wpj",
        "outputId": "cb694e9a-2239-40e3-fb6a-2a4b9d0faf37"
      },
      "outputs": [
        {
          "data": {
            "text/html": [
              "<div>\n",
              "<style scoped>\n",
              "    .dataframe tbody tr th:only-of-type {\n",
              "        vertical-align: middle;\n",
              "    }\n",
              "\n",
              "    .dataframe tbody tr th {\n",
              "        vertical-align: top;\n",
              "    }\n",
              "\n",
              "    .dataframe thead th {\n",
              "        text-align: right;\n",
              "    }\n",
              "</style>\n",
              "<table border=\"1\" class=\"dataframe\">\n",
              "  <thead>\n",
              "    <tr style=\"text-align: right;\">\n",
              "      <th></th>\n",
              "      <th>review</th>\n",
              "      <th>sentiment</th>\n",
              "    </tr>\n",
              "  </thead>\n",
              "  <tbody>\n",
              "    <tr>\n",
              "      <th>count</th>\n",
              "      <td>24884</td>\n",
              "      <td>24884</td>\n",
              "    </tr>\n",
              "    <tr>\n",
              "      <th>unique</th>\n",
              "      <td>24882</td>\n",
              "      <td>1</td>\n",
              "    </tr>\n",
              "    <tr>\n",
              "      <th>top</th>\n",
              "      <td>[film, easili, rival, emot, strength, dramat, ...</td>\n",
              "      <td>positive</td>\n",
              "    </tr>\n",
              "    <tr>\n",
              "      <th>freq</th>\n",
              "      <td>2</td>\n",
              "      <td>24884</td>\n",
              "    </tr>\n",
              "  </tbody>\n",
              "</table>\n",
              "</div>"
            ],
            "text/plain": [
              "                                                   review sentiment\n",
              "count                                               24884     24884\n",
              "unique                                              24882         1\n",
              "top     [film, easili, rival, emot, strength, dramat, ...  positive\n",
              "freq                                                    2     24884"
            ]
          },
          "execution_count": 82,
          "metadata": {},
          "output_type": "execute_result"
        }
      ],
      "source": [
        "positive_df.describe()"
      ]
    },
    {
      "cell_type": "code",
      "execution_count": 83,
      "metadata": {
        "colab": {
          "base_uri": "https://localhost:8080/",
          "height": 175
        },
        "id": "MfpwzHrEcT9C",
        "outputId": "b404438b-bc37-44c6-f584-412ab9d28a4f"
      },
      "outputs": [
        {
          "data": {
            "text/html": [
              "<div>\n",
              "<style scoped>\n",
              "    .dataframe tbody tr th:only-of-type {\n",
              "        vertical-align: middle;\n",
              "    }\n",
              "\n",
              "    .dataframe tbody tr th {\n",
              "        vertical-align: top;\n",
              "    }\n",
              "\n",
              "    .dataframe thead th {\n",
              "        text-align: right;\n",
              "    }\n",
              "</style>\n",
              "<table border=\"1\" class=\"dataframe\">\n",
              "  <thead>\n",
              "    <tr style=\"text-align: right;\">\n",
              "      <th></th>\n",
              "      <th>review</th>\n",
              "      <th>sentiment</th>\n",
              "    </tr>\n",
              "  </thead>\n",
              "  <tbody>\n",
              "    <tr>\n",
              "      <th>count</th>\n",
              "      <td>24698</td>\n",
              "      <td>24698</td>\n",
              "    </tr>\n",
              "    <tr>\n",
              "      <th>unique</th>\n",
              "      <td>24696</td>\n",
              "      <td>1</td>\n",
              "    </tr>\n",
              "    <tr>\n",
              "      <th>top</th>\n",
              "      <td>[movi, got, interest, start, road, howev, stor...</td>\n",
              "      <td>negative</td>\n",
              "    </tr>\n",
              "    <tr>\n",
              "      <th>freq</th>\n",
              "      <td>2</td>\n",
              "      <td>24698</td>\n",
              "    </tr>\n",
              "  </tbody>\n",
              "</table>\n",
              "</div>"
            ],
            "text/plain": [
              "                                                   review sentiment\n",
              "count                                               24698     24698\n",
              "unique                                              24696         1\n",
              "top     [movi, got, interest, start, road, howev, stor...  negative\n",
              "freq                                                    2     24698"
            ]
          },
          "execution_count": 83,
          "metadata": {},
          "output_type": "execute_result"
        }
      ],
      "source": [
        "negative_df.describe()"
      ]
    },
    {
      "cell_type": "code",
      "execution_count": 84,
      "metadata": {
        "colab": {
          "base_uri": "https://localhost:8080/",
          "height": 175
        },
        "id": "3HtMIKdXcT9D",
        "outputId": "38e65490-7216-4539-c5bb-11b182196f06"
      },
      "outputs": [
        {
          "data": {
            "text/html": [
              "<div>\n",
              "<style scoped>\n",
              "    .dataframe tbody tr th:only-of-type {\n",
              "        vertical-align: middle;\n",
              "    }\n",
              "\n",
              "    .dataframe tbody tr th {\n",
              "        vertical-align: top;\n",
              "    }\n",
              "\n",
              "    .dataframe thead th {\n",
              "        text-align: right;\n",
              "    }\n",
              "</style>\n",
              "<table border=\"1\" class=\"dataframe\">\n",
              "  <thead>\n",
              "    <tr style=\"text-align: right;\">\n",
              "      <th></th>\n",
              "      <th>review</th>\n",
              "      <th>sentiment</th>\n",
              "    </tr>\n",
              "  </thead>\n",
              "  <tbody>\n",
              "    <tr>\n",
              "      <th>count</th>\n",
              "      <td>49582</td>\n",
              "      <td>49582</td>\n",
              "    </tr>\n",
              "    <tr>\n",
              "      <th>unique</th>\n",
              "      <td>49578</td>\n",
              "      <td>2</td>\n",
              "    </tr>\n",
              "    <tr>\n",
              "      <th>top</th>\n",
              "      <td>[im, not, biggest, fan, western, two, person, ...</td>\n",
              "      <td>positive</td>\n",
              "    </tr>\n",
              "    <tr>\n",
              "      <th>freq</th>\n",
              "      <td>2</td>\n",
              "      <td>24884</td>\n",
              "    </tr>\n",
              "  </tbody>\n",
              "</table>\n",
              "</div>"
            ],
            "text/plain": [
              "                                                   review sentiment\n",
              "count                                               49582     49582\n",
              "unique                                              49578         2\n",
              "top     [im, not, biggest, fan, western, two, person, ...  positive\n",
              "freq                                                    2     24884"
            ]
          },
          "execution_count": 84,
          "metadata": {},
          "output_type": "execute_result"
        }
      ],
      "source": [
        "df.describe()"
      ]
    },
    {
      "cell_type": "code",
      "execution_count": 85,
      "metadata": {
        "id": "xZKR-AFecT9D"
      },
      "outputs": [],
      "source": [
        "# Dataframe to list and list of reviews to list of list of words\n",
        "# this is useful for frequency analysis \n",
        "postive_words_without_stop_words = positive_df.review.tolist()\n",
        "postive_words_without_stop_words = [item for sublist in postive_words_without_stop_words for item in sublist]\n",
        "negative_df_without_stop_words = negative_df.review.tolist()\n",
        "negative_df_without_stop_words = [item for sublist in negative_df_without_stop_words for item in sublist]\n",
        "words_without_stop_words = df.review.tolist()\n",
        "words_without_stop_words = [item for sublist in words_without_stop_words for item in sublist]"
      ]
    },
    {
      "cell_type": "code",
      "execution_count": 86,
      "metadata": {
        "colab": {
          "base_uri": "https://localhost:8080/"
        },
        "id": "QhiGlTJecT9D",
        "outputId": "8714a4b0-bed9-46b0-c182-7fe38cae2e64"
      },
      "outputs": [
        {
          "name": "stdout",
          "output_type": "stream",
          "text": [
            "Number of words with stop words in the postive dataset 3046575\n",
            "Number of words with stop words in the negative dataset 2961540\n",
            "Number of words with stop words in the entire dataset 6008115\n"
          ]
        }
      ],
      "source": [
        "print(\"Number of words with stop words in the postive dataset \" + str(len(postive_words_without_stop_words)))\n",
        "print(\"Number of words with stop words in the negative dataset \" + str(len(negative_df_without_stop_words)))\n",
        "print(\"Number of words with stop words in the entire dataset \" + str(len(words_without_stop_words)))"
      ]
    },
    {
      "cell_type": "code",
      "execution_count": 87,
      "metadata": {
        "colab": {
          "base_uri": "https://localhost:8080/",
          "height": 325
        },
        "id": "dho6IQeBcT9D",
        "outputId": "5511c404-dce3-48a2-febd-bd3bf42e0be8"
      },
      "outputs": [
        {
          "data": {
            "image/png": "[encoded data removed]",
            "text/plain": [
              "<Figure size 432x288 with 1 Axes>"
            ]
          },
          "metadata": {
            "needs_background": "light"
          },
          "output_type": "display_data"
        },
        {
          "data": {
            "text/plain": [
              "<AxesSubplot:xlabel='Samples', ylabel='Counts'>"
            ]
          },
          "execution_count": 87,
          "metadata": {},
          "output_type": "execute_result"
        }
      ],
      "source": [
        "data_analysis = nltk.FreqDist(postive_words_without_stop_words)\n",
        "data_analysis.plot(25, cumulative=False)"
      ]
    },
    {
      "cell_type": "code",
      "execution_count": 88,
      "metadata": {
        "colab": {
          "base_uri": "https://localhost:8080/",
          "height": 325
        },
        "id": "9STxER2wcT9D",
        "outputId": "9a3feba9-3ef9-427d-ea16-df8cefc178cb"
      },
      "outputs": [
        {
          "data": {
            "image/png": "[encoded data removed]",
            "text/plain": [
              "<Figure size 432x288 with 1 Axes>"
            ]
          },
          "metadata": {
            "needs_background": "light"
          },
          "output_type": "display_data"
        },
        {
          "data": {
            "text/plain": [
              "<AxesSubplot:xlabel='Samples', ylabel='Counts'>"
            ]
          },
          "execution_count": 88,
          "metadata": {},
          "output_type": "execute_result"
        }
      ],
      "source": [
        "data_analysis = nltk.FreqDist(negative_df_without_stop_words)\n",
        "data_analysis.plot(25, cumulative=False)"
      ]
    },
    {
      "cell_type": "code",
      "execution_count": 89,
      "metadata": {
        "colab": {
          "base_uri": "https://localhost:8080/",
          "height": 325
        },
        "id": "dMs1fxMbcT9E",
        "outputId": "d30e3ce6-b55f-4591-e57e-c8597e7571de"
      },
      "outputs": [
        {
          "data": {
            "image/png": "[encoded data removed]",
            "text/plain": [
              "<Figure size 432x288 with 1 Axes>"
            ]
          },
          "metadata": {
            "needs_background": "light"
          },
          "output_type": "display_data"
        },
        {
          "data": {
            "text/plain": [
              "<AxesSubplot:xlabel='Samples', ylabel='Counts'>"
            ]
          },
          "execution_count": 89,
          "metadata": {},
          "output_type": "execute_result"
        }
      ],
      "source": [
        "# Get words frequency\n",
        "data_analysis = nltk.FreqDist(words_without_stop_words)\n",
        "data_analysis.plot(25, cumulative=False)"
      ]
    },
    {
      "cell_type": "code",
      "execution_count": 90,
      "metadata": {
        "colab": {
          "base_uri": "https://localhost:8080/"
        },
        "id": "R0L2Kzp8ex03",
        "outputId": "c18933be-f754-4f1f-da0f-4847e55238c6"
      },
      "outputs": [
        {
          "data": {
            "text/plain": [
              "FreqDist({'movi': 98196, 'film': 91433, 'not': 61139, 'one': 52254, 'like': 43459, 'time': 29551, 'good': 28699, 'make': 28379, 'get': 27498, 'charact': 27339, ...})"
            ]
          },
          "execution_count": 90,
          "metadata": {},
          "output_type": "execute_result"
        }
      ],
      "source": [
        "# Base for dictionary word-frequency \n",
        "data_analysis"
      ]
    },
    {
      "cell_type": "code",
      "execution_count": 91,
      "metadata": {
        "id": "ZUgTAejqfAJF"
      },
      "outputs": [],
      "source": [
        "# Order from most common words to least common ones\n",
        "embed_dict = data_analysis.most_common()\n",
        "\n",
        "# Embedding dictionary starting from 1 because 0 is for padding\n",
        "embed_dict = {w:i+1 for i, (w,c) in enumerate(embed_dict)}"
      ]
    },
    {
      "cell_type": "code",
      "execution_count": 92,
      "metadata": {
        "id": "dA3594Y-BWK8"
      },
      "outputs": [],
      "source": [
        "# Embedding: word to int \n",
        "reviews = df.review.tolist()\n",
        "sentiments = df.sentiment.tolist()\n",
        "sentiments_embedded = [1 if label =='positive' else 0 for label in sentiments]\n",
        "\n",
        "reviews_embedded = []\n",
        "for review in reviews:\n",
        "  temp_list = []\n",
        "  for word in review:\n",
        "    temp_list.append(embed_dict[word])\n",
        "  reviews_embedded.append(temp_list)"
      ]
    },
    {
      "cell_type": "code",
      "execution_count": 93,
      "metadata": {
        "id": "Z9WX_iSBRe-R"
      },
      "outputs": [],
      "source": [
        "def trim_n_pad(reviews_int, seq_length):\n",
        "    ''' Takes the list of reviews and trims each one of them to seq_length,\n",
        "        if, the sequence it is not long enough, it will be padded with 0.\n",
        "    '''\n",
        "    features = np.zeros((len(reviews_int), seq_length), dtype = int)\n",
        "    \n",
        "    for i, review in enumerate(reviews_int):\n",
        "        review_len = len(review)\n",
        "        \n",
        "        if review_len <= seq_length:\n",
        "            zeroes = list(np.zeros(seq_length-review_len))\n",
        "            new = zeroes+review\n",
        "        elif review_len > seq_length:\n",
        "            new = review[0:seq_length]\n",
        "        \n",
        "        features[i,:] = np.array(new)\n",
        "    \n",
        "    return features"
      ]
    },
    {
      "cell_type": "code",
      "execution_count": 94,
      "metadata": {
        "id": "q4FhskNulVpN"
      },
      "outputs": [],
      "source": [
        "# Keep just the first 200 words for a review\n",
        "seq_len = 200\n",
        "reviews_embedded = trim_n_pad(reviews_embedded, seq_len)"
      ]
    },
    {
      "cell_type": "markdown",
      "metadata": {
        "id": "9Sj3esK1HHzp"
      },
      "source": [
        "## Split dataset"
      ]
    },
    {
      "cell_type": "code",
      "execution_count": 95,
      "metadata": {
        "id": "z93qXMWwHJiy"
      },
      "outputs": [],
      "source": [
        "# Split dataset\n",
        "review_train, review_test, sentiment_train, sentiment_test = train_test_split(reviews_embedded, sentiments_embedded, stratify = sentiments_embedded)"
      ]
    },
    {
      "cell_type": "code",
      "execution_count": 96,
      "metadata": {
        "colab": {
          "base_uri": "https://localhost:8080/"
        },
        "id": "rsvYW5f4I2pr",
        "outputId": "5da1dc49-62eb-44c0-dd38-106cd1275a42"
      },
      "outputs": [
        {
          "name": "stdout",
          "output_type": "stream",
          "text": [
            "Number of reviews train: 37186\n",
            "Number of reviews test: 12396\n",
            "Number of sentiment train: 37186\n",
            "Number of sentiment test: 12396\n",
            "Positive % on train 0.5018824288710805\n",
            "Positive % on test 0.5018554372378187\n"
          ]
        }
      ],
      "source": [
        "print(\"Number of reviews train:\", len(review_train))\n",
        "print(\"Number of reviews test:\", len(review_test))\n",
        "print(\"Number of sentiment train:\", len(sentiment_train))\n",
        "print(\"Number of sentiment test:\", len(sentiment_test))\n",
        "\n",
        "pos_train = sentiment_train.count(1)\n",
        "pos_test = sentiment_test.count(1)\n",
        "\n",
        "print(\"Positive % on train\", pos_train/len(sentiment_train))\n",
        "print(\"Positive % on test\", pos_test/len(sentiment_test))"
      ]
    },
    {
      "cell_type": "code",
      "execution_count": 97,
      "metadata": {
        "id": "-vCEpa69I8ZR"
      },
      "outputs": [],
      "source": [
        "# Removing outliers\n",
        "review_train = [ review_train[i] for i in range(len(review_train)) if len(review_train[i])>0 ]\n",
        "sentiment_train = [ sentiment_train[i] for i in range(len(review_train)) if len(review_train[i])>0 ]\n",
        "\n",
        "# Removing outliers\n",
        "review_test = [ review_test[i] for i in range(len(review_test)) if len(review_test[i])>0 ]\n",
        "sentiment_test = [ sentiment_test[i] for i in range(len(review_test)) if len(review_test[i])>0 ]\n"
      ]
    },
    {
      "cell_type": "markdown",
      "metadata": {
        "id": "oqgc1EZuSa1G"
      },
      "source": [
        "## Dataloaders and Batching"
      ]
    },
    {
      "cell_type": "code",
      "execution_count": 98,
      "metadata": {
        "id": "kI1MCWzPTexl"
      },
      "outputs": [],
      "source": [
        "# Create array with numpy\n",
        "review_train = np.array(review_train)\n",
        "sentiment_train = np.array(sentiment_train)\n",
        "\n",
        "review_test = np.array(review_test)\n",
        "sentiment_test = np.array(sentiment_test)"
      ]
    },
    {
      "cell_type": "code",
      "execution_count": 99,
      "metadata": {
        "id": "tpSUg5tDSet1"
      },
      "outputs": [],
      "source": [
        "# Create Tensor datasets\n",
        "train_data = TensorDataset(torch.from_numpy(review_train), torch.from_numpy(sentiment_train))\n",
        "test_data = TensorDataset(torch.from_numpy(review_test), torch.from_numpy(sentiment_test))"
      ]
    },
    {
      "cell_type": "code",
      "execution_count": 100,
      "metadata": {
        "id": "n9nnykuzTaIH"
      },
      "outputs": [],
      "source": [
        "# Define batch size\n",
        "batch_size = 50"
      ]
    },
    {
      "cell_type": "code",
      "execution_count": 101,
      "metadata": {
        "id": "MYmdzBcET2yo"
      },
      "outputs": [],
      "source": [
        "# Data loader\n",
        "train_loader = DataLoader(train_data, shuffle=True, batch_size=batch_size, drop_last=True)\n",
        "test_loader = DataLoader(test_data, shuffle=True, batch_size=batch_size, drop_last=True)\n",
        "\n",
        "# If drop_last == True -> if the batch is not long enough, drop it"
      ]
    },
    {
      "cell_type": "code",
      "execution_count": 103,
      "metadata": {
        "colab": {
          "base_uri": "https://localhost:8080/"
        },
        "id": "0CBwTeiGT6e2",
        "outputId": "e95ad043-b1f1-44a8-d971-e259e06f6fe1"
      },
      "outputs": [
        {
          "name": "stdout",
          "output_type": "stream",
          "text": [
            "Sample input size:  torch.Size([50, 200])\n",
            "Sample input: \n",
            " tensor([[ 6596,    86,   435,  ...,   262,     8,     2],\n",
            "        [    0,     0,     0,  ...,   147,     4,   236],\n",
            "        [    0,     0,     0,  ...,   183,   173,  3244],\n",
            "        ...,\n",
            "        [    0,     0,     0,  ...,  2416,   691,   124],\n",
            "        [ 1200,   320,   119,  ...,    38,   327,   767],\n",
            "        [   66,   184,  9416,  ..., 18302,  1849, 21677]])\n",
            "\n",
            "Sample label size:  torch.Size([50])\n",
            "Sample label: \n",
            " tensor([0, 1, 1, 1, 1, 1, 0, 1, 1, 0, 0, 1, 0, 0, 1, 1, 0, 1, 1, 1, 1, 1, 0, 1,\n",
            "        0, 0, 1, 1, 0, 0, 0, 1, 0, 1, 0, 0, 1, 1, 1, 1, 1, 0, 0, 0, 1, 0, 1, 1,\n",
            "        1, 1])\n"
          ]
        }
      ],
      "source": [
        "# obtain one batch of training data\n",
        "dataiter = iter(train_loader)\n",
        "sample_x, sample_y = next(dataiter)\n",
        "print('Sample input size: ', sample_x.size()) # batch_size, seq_length\n",
        "print('Sample input: \\n', sample_x)\n",
        "print()\n",
        "print('Sample label size: ', sample_y.size()) # batch_size\n",
        "print('Sample label: \\n', sample_y)"
      ]
    },
    {
      "cell_type": "markdown",
      "metadata": {
        "id": "teGVLKn_UNBO"
      },
      "source": [
        "## Define the model class"
      ]
    },
    {
      "cell_type": "code",
      "execution_count": 104,
      "metadata": {
        "id": "V-wLXhDAWIxR"
      },
      "outputs": [],
      "source": [
        "train_on_gpu = False\n"
      ]
    },
    {
      "cell_type": "code",
      "execution_count": 105,
      "metadata": {
        "id": "8LMmQ6qIUPHh"
      },
      "outputs": [],
      "source": [
        "\n",
        "class SentimentLSTM(nn.Module):\n",
        "    \"\"\"\n",
        "    The LSTM model that will be used to perform Sentiment analysis.\n",
        "    \"\"\"\n",
        "\n",
        "    def __init__(self, vocab_size, output_size, embedding_dim, hidden_dim, n_layers, drop_prob=0.3):\n",
        "        \"\"\"\n",
        "        Initialize the model by setting up the layers.\n",
        "        \"\"\"\n",
        "        super().__init__()\n",
        "\n",
        "        self.output_size = output_size\n",
        "        self.n_layers = n_layers\n",
        "        self.hidden_dim = hidden_dim\n",
        "        \n",
        "        # embedding and LSTM layers\n",
        "        self.embedding = nn.Embedding(vocab_size, embedding_dim)\n",
        "        self.lstm = nn.LSTM(embedding_dim, hidden_dim, n_layers, \n",
        "                            dropout=drop_prob, batch_first=True)\n",
        "        \n",
        "        # dropout layer\n",
        "        self.dropout = nn.Dropout(0.25)\n",
        "        \n",
        "        # linear and sigmoid layers\n",
        "        self.fc = nn.Linear(hidden_dim, output_size)\n",
        "        self.sig = nn.Sigmoid()\n",
        "        \n",
        "\n",
        "    def forward(self, x, hidden):\n",
        "        \"\"\"\n",
        "        Perform a forward pass of our model on some input and hidden state.\n",
        "        \"\"\"\n",
        "        batch_size = x.size(0)\n",
        "\n",
        "        # embeddings and lstm_out\n",
        "        embeds = self.embedding(x)\n",
        "        lstm_out, hidden = self.lstm(embeds, hidden)\n",
        "    \n",
        "        # stack up lstm outputs\n",
        "        # contiguos returns the same tensor but without empty cells, if any\n",
        "        # view returns a new tensor with the same data as the self tensor \n",
        "        # but of a different shape, with -1 the size is inferred \n",
        "        # from other dimensions\n",
        "        lstm_out = lstm_out.contiguous().view(-1, self.hidden_dim)\n",
        "        \n",
        "        # dropout and fully-connected layer\n",
        "        out = self.dropout(lstm_out)\n",
        "        out = self.fc(out)\n",
        "        \n",
        "        # sigmoid function\n",
        "        sig_out = self.sig(out)\n",
        "        \n",
        "        # reshape to be batch_size first\n",
        "        sig_out = sig_out.view(batch_size, -1)\n",
        "        sig_out = sig_out[:, -1] # get last batch of labels\n",
        "        \n",
        "        # return last sigmoid output and hidden state\n",
        "        return sig_out, hidden\n",
        "    \n",
        "    \n",
        "    def init_hidden(self, batch_size):\n",
        "        ''' Initializes hidden state '''\n",
        "        # Create two new tensors with sizes n_layers x batch_size x hidden_dim,\n",
        "        # initialized to zero, for hidden state and cell state of LSTM\n",
        "        weight = next(self.parameters()).data\n",
        "        \n",
        "        if (train_on_gpu):\n",
        "            mps_device = torch.device(\"mps\")\n",
        "            hidden = (weight.new(self.n_layers, batch_size, self.hidden_dim).zero_().to(mps_device),\n",
        "                  weight.new(self.n_layers, batch_size, self.hidden_dim).zero_().to(mps_device))\n",
        "        else:\n",
        "            hidden = (weight.new(self.n_layers, batch_size, self.hidden_dim).zero_(),\n",
        "                      weight.new(self.n_layers, batch_size, self.hidden_dim).zero_())\n",
        "        \n",
        "        return hidden"
      ]
    },
    {
      "cell_type": "code",
      "execution_count": 106,
      "metadata": {
        "colab": {
          "base_uri": "https://localhost:8080/"
        },
        "id": "6UaahQuEUbEY",
        "outputId": "9345756f-a6e6-409f-859d-2a97776b4ccd"
      },
      "outputs": [
        {
          "name": "stdout",
          "output_type": "stream",
          "text": [
            "SentimentLSTM(\n",
            "  (embedding): Embedding(182527, 150)\n",
            "  (lstm): LSTM(150, 256, num_layers=3, batch_first=True, dropout=0.3)\n",
            "  (dropout): Dropout(p=0.25, inplace=False)\n",
            "  (fc): Linear(in_features=256, out_features=1, bias=True)\n",
            "  (sig): Sigmoid()\n",
            ")\n"
          ]
        }
      ],
      "source": [
        "# Instantiate the model w/ hyperparams\n",
        "vocab_size = len(embed_dict)+1 # +1 for the 0 padding\n",
        "output_size = 1\n",
        "embedding_dim = 150\n",
        "hidden_dim = 256\n",
        "n_layers = 3\n",
        "net = SentimentLSTM(vocab_size, output_size, embedding_dim, hidden_dim, n_layers)\n",
        "print(net)"
      ]
    },
    {
      "cell_type": "code",
      "execution_count": 107,
      "metadata": {
        "colab": {
          "base_uri": "https://localhost:8080/"
        },
        "id": "U-gGloNSUivc",
        "outputId": "9d12846f-8d4f-44bc-c912-ea63ced13a88"
      },
      "outputs": [
        {
          "ename": "KeyboardInterrupt",
          "evalue": "",
          "output_type": "error",
          "traceback": [
            "\u001b[0;31m---------------------------------------------------------------------------\u001b[0m",
            "\u001b[0;31mKeyboardInterrupt\u001b[0m                         Traceback (most recent call last)",
            "\u001b[1;32m/Users/greta/Il mio Drive/Università/Magistrale/1° anno C.d.L.M. SCIENZE INFORMATICHE/Fondamenti di Intelligenza Artificiale/Progetto/IMDB_Reviews_Sentiment_Analysis.ipynb Cella 59\u001b[0m in \u001b[0;36m<cell line: 25>\u001b[0;34m()\u001b[0m\n\u001b[1;32m     <a href='vscode-notebook-cell:/Users/greta/Il%20mio%20Drive/Universit%C3%A0/Magistrale/1%C2%B0%20anno%20C.d.L.M.%20SCIENZE%20INFORMATICHE/Fondamenti%20di%20Intelligenza%20Artificiale/Progetto/IMDB_Reviews_Sentiment_Analysis.ipynb#Y114sZmlsZQ%3D%3D?line=50'>51</a>\u001b[0m \u001b[39m# calculate the loss and perform backprop\u001b[39;00m\n\u001b[1;32m     <a href='vscode-notebook-cell:/Users/greta/Il%20mio%20Drive/Universit%C3%A0/Magistrale/1%C2%B0%20anno%20C.d.L.M.%20SCIENZE%20INFORMATICHE/Fondamenti%20di%20Intelligenza%20Artificiale/Progetto/IMDB_Reviews_Sentiment_Analysis.ipynb#Y114sZmlsZQ%3D%3D?line=51'>52</a>\u001b[0m loss \u001b[39m=\u001b[39m criterion(output\u001b[39m.\u001b[39msqueeze(), labels\u001b[39m.\u001b[39mfloat())\n\u001b[0;32m---> <a href='vscode-notebook-cell:/Users/greta/Il%20mio%20Drive/Universit%C3%A0/Magistrale/1%C2%B0%20anno%20C.d.L.M.%20SCIENZE%20INFORMATICHE/Fondamenti%20di%20Intelligenza%20Artificiale/Progetto/IMDB_Reviews_Sentiment_Analysis.ipynb#Y114sZmlsZQ%3D%3D?line=52'>53</a>\u001b[0m loss\u001b[39m.\u001b[39;49mbackward() \u001b[39m# Computes the gradient of current tensor\u001b[39;00m\n\u001b[1;32m     <a href='vscode-notebook-cell:/Users/greta/Il%20mio%20Drive/Universit%C3%A0/Magistrale/1%C2%B0%20anno%20C.d.L.M.%20SCIENZE%20INFORMATICHE/Fondamenti%20di%20Intelligenza%20Artificiale/Progetto/IMDB_Reviews_Sentiment_Analysis.ipynb#Y114sZmlsZQ%3D%3D?line=54'>55</a>\u001b[0m \u001b[39m# 'clip_grad_norm' helps prevent the exploding gradient problem in RNNs / LSTMs.\u001b[39;00m\n\u001b[1;32m     <a href='vscode-notebook-cell:/Users/greta/Il%20mio%20Drive/Universit%C3%A0/Magistrale/1%C2%B0%20anno%20C.d.L.M.%20SCIENZE%20INFORMATICHE/Fondamenti%20di%20Intelligenza%20Artificiale/Progetto/IMDB_Reviews_Sentiment_Analysis.ipynb#Y114sZmlsZQ%3D%3D?line=55'>56</a>\u001b[0m nn\u001b[39m.\u001b[39mutils\u001b[39m.\u001b[39mclip_grad_norm_(net\u001b[39m.\u001b[39mparameters(), clip)\n",
            "File \u001b[0;32m/opt/anaconda3/lib/python3.8/site-packages/torch/_tensor.py:450\u001b[0m, in \u001b[0;36mTensor.backward\u001b[0;34m(self, gradient, retain_graph, create_graph, inputs)\u001b[0m\n\u001b[1;32m    440\u001b[0m \u001b[39mif\u001b[39;00m has_torch_function_unary(\u001b[39mself\u001b[39m):\n\u001b[1;32m    441\u001b[0m     \u001b[39mreturn\u001b[39;00m handle_torch_function(\n\u001b[1;32m    442\u001b[0m         Tensor\u001b[39m.\u001b[39mbackward,\n\u001b[1;32m    443\u001b[0m         (\u001b[39mself\u001b[39m,),\n\u001b[0;32m   (...)\u001b[0m\n\u001b[1;32m    448\u001b[0m         inputs\u001b[39m=\u001b[39minputs,\n\u001b[1;32m    449\u001b[0m     )\n\u001b[0;32m--> 450\u001b[0m torch\u001b[39m.\u001b[39;49mautograd\u001b[39m.\u001b[39;49mbackward(\n\u001b[1;32m    451\u001b[0m     \u001b[39mself\u001b[39;49m, gradient, retain_graph, create_graph, inputs\u001b[39m=\u001b[39;49minputs\n\u001b[1;32m    452\u001b[0m )\n",
            "File \u001b[0;32m/opt/anaconda3/lib/python3.8/site-packages/torch/autograd/__init__.py:197\u001b[0m, in \u001b[0;36mbackward\u001b[0;34m(tensors, grad_tensors, retain_graph, create_graph, grad_variables, inputs)\u001b[0m\n\u001b[1;32m    192\u001b[0m     retain_graph \u001b[39m=\u001b[39m create_graph\n\u001b[1;32m    194\u001b[0m \u001b[39m# The reason we repeat same the comment below is that\u001b[39;00m\n\u001b[1;32m    195\u001b[0m \u001b[39m# some Python versions print out the first line of a multi-line function\u001b[39;00m\n\u001b[1;32m    196\u001b[0m \u001b[39m# calls in the traceback and some print out the last line\u001b[39;00m\n\u001b[0;32m--> 197\u001b[0m Variable\u001b[39m.\u001b[39;49m_execution_engine\u001b[39m.\u001b[39;49mrun_backward(  \u001b[39m# Calls into the C++ engine to run the backward pass\u001b[39;49;00m\n\u001b[1;32m    198\u001b[0m     tensors, grad_tensors_, retain_graph, create_graph, inputs,\n\u001b[1;32m    199\u001b[0m     allow_unreachable\u001b[39m=\u001b[39;49m\u001b[39mTrue\u001b[39;49;00m, accumulate_grad\u001b[39m=\u001b[39;49m\u001b[39mTrue\u001b[39;49;00m)\n",
            "\u001b[0;31mKeyboardInterrupt\u001b[0m: "
          ]
        }
      ],
      "source": [
        "# loss and optimization functions\n",
        "lr=0.001\n",
        "\n",
        "# Use BCE as cost function because the output is binary\n",
        "criterion = nn.BCELoss()\n",
        "# Use Adam as optimization technique\n",
        "optimizer = torch.optim.Adam(net.parameters(), lr=lr)\n",
        "\n",
        "# training params\n",
        "epochs = 6 \n",
        "clip = 5 # gradient clipping\n",
        "\n",
        "counter = 0\n",
        "print_every = 100\n",
        "\n",
        "# move model to GPU, if available\n",
        "if(train_on_gpu):\n",
        "    mps_device = torch.device(\"mps\")\n",
        "    net.to(mps_device)\n",
        "\n",
        "# Set the net in training mode -> the dropout layers act as dropout\n",
        "net.train() \n",
        "\n",
        "# Train\n",
        "for e in range(epochs):\n",
        "    # initialize hidden state\n",
        "    h = net.init_hidden(batch_size)\n",
        "\n",
        "    # batch loop\n",
        "    for inputs, labels in train_loader:\n",
        "        counter += 1\n",
        "\n",
        "        if(train_on_gpu):\n",
        "            inputs, labels = inputs.to(mps_device), labels.to(mps_device)\n",
        "        else:\n",
        "            inputs = inputs.type(torch.LongTensor)\n",
        "\n",
        "        # Creating new variables for the hidden state, otherwise\n",
        "        # we'd backprop through the entire training history\n",
        "        h = tuple([each.data for each in h])\n",
        "\n",
        "        # Clear the gradient at each iteration beacuse of batching\n",
        "        # otherwise, the gradient would be a combination of the old gradient, \n",
        "        # which you have already used to update your model parameters, \n",
        "        # and the newly-computed gradient. \n",
        "        net.zero_grad()\n",
        "\n",
        "        # get the output from the model\n",
        "        output, h = net(inputs, h) \n",
        "\n",
        "        # calculate the loss and perform backprop\n",
        "        loss = criterion(output.squeeze(), labels.float())\n",
        "        loss.backward() # Computes the gradient of current tensor\n",
        "\n",
        "        # 'clip_grad_norm' helps prevent the exploding gradient problem in RNNs / LSTMs.\n",
        "        nn.utils.clip_grad_norm_(net.parameters(), clip)\n",
        "        optimizer.step()\n",
        "\n",
        "        # loss stats\n",
        "        if counter % print_every == 0:\n",
        "            net.train()\n",
        "            print(\"Epoch: {}/{}...\".format(e+1, epochs),\n",
        "                  \"Step: {}...\".format(counter),\n",
        "                  \"Loss: {:.6f}...\".format(loss.item()))"
      ]
    },
    {
      "cell_type": "code",
      "execution_count": null,
      "metadata": {
        "colab": {
          "base_uri": "https://localhost:8080/"
        },
        "id": "96tFZf1rVKc_",
        "outputId": "de54cf65-90b8-44fa-f86c-0906b3258266"
      },
      "outputs": [
        {
          "name": "stdout",
          "output_type": "stream",
          "text": [
            "Test loss: 0.425\n",
            "Test accuracy: 0.856\n"
          ]
        }
      ],
      "source": [
        "# Get test data loss and accuracy\n",
        "\n",
        "test_losses = [] # track loss\n",
        "num_correct = 0\n",
        "\n",
        "# init hidden state\n",
        "h = net.init_hidden(batch_size)\n",
        "\n",
        "# Set the net to eval mode -> dropout layers implement now the identity function\n",
        "net.eval()\n",
        "\n",
        "# iterate over test data\n",
        "for inputs, labels in test_loader:\n",
        "\n",
        "    # Creating new variables for the hidden state, otherwise\n",
        "    # we'd backprop through the entire training history\n",
        "    h = tuple([each.data for each in h])\n",
        "\n",
        "    if(train_on_gpu):\n",
        "        inputs, labels = inputs.to(mps_device), labels.to(mps_device)\n",
        "    else:\n",
        "        inputs = inputs.type(torch.LongTensor)\n",
        "      \n",
        "    # get predicted outputs\n",
        "    output, h = net(inputs, h)\n",
        "    \n",
        "    # calculate loss\n",
        "    test_loss = criterion(output.squeeze(), labels.float())\n",
        "    test_losses.append(test_loss.item())\n",
        "    \n",
        "    # convert output probabilities to predicted class (0 or 1)\n",
        "    pred = torch.round(output.squeeze())  # rounds to the nearest integer\n",
        "    \n",
        "    # compare predictions to true label\n",
        "    correct_tensor = pred.eq(labels.float().view_as(pred))\n",
        "    correct = np.squeeze(correct_tensor.numpy()) if not train_on_gpu else np.squeeze(correct_tensor.cpu().numpy())\n",
        "    num_correct += np.sum(correct)\n",
        "\n",
        "\n",
        "# -- stats! -- ##\n",
        "# avg test loss\n",
        "print(\"Test loss: {:.3f}\".format(np.mean(test_losses)))\n",
        "\n",
        "# accuracy over all test data\n",
        "test_acc = num_correct/len(test_loader.dataset)\n",
        "print(\"Test accuracy: {:.3f}\".format(test_acc))"
      ]
    },
    {
      "cell_type": "code",
      "execution_count": null,
      "metadata": {
        "id": "SdMKFgXtVPzM"
      },
      "outputs": [],
      "source": [
        "\n",
        "def tokenize_review(test_review):\n",
        "    # lowercase\n",
        "    test_review = test_review.lower() \n",
        "    # get rid of punctuation\n",
        "    test_text = ''.join([c for c in test_review if c not in punctuation])\n",
        "\n",
        "    # tokenize\n",
        "    test_words = test_text.split()\n",
        "\n",
        "    # Remove stop words\n",
        "    test_words = [item for item in test_words if item not in stop_words] \n",
        "    # Stemming\n",
        "    test_words = [ps.stem(word) for word in test_words]\n",
        "\n",
        "    # Create list of tokens\n",
        "    test_ints = []\n",
        "    test_ints.append([embed_dict[word] for word in test_words])\n",
        "\n",
        "    return test_ints\n",
        "\n",
        "\n",
        "def predict(net, test_review, sequence_length=200):\n",
        "    \n",
        "    net.eval()\n",
        "    \n",
        "    # tokenize review\n",
        "    test_ints = tokenize_review(test_review)\n",
        "    \n",
        "    # pad tokenized sequence\n",
        "    seq_length=sequence_length\n",
        "    features = trim_n_pad(test_ints, seq_length)\n",
        "    \n",
        "    # convert to tensor to pass into your model\n",
        "    feature_tensor = torch.from_numpy(features)\n",
        "    \n",
        "    batch_size = feature_tensor.size(0)\n",
        "    \n",
        "    # initialize hidden state\n",
        "    h = net.init_hidden(batch_size)\n",
        "    \n",
        "    if(train_on_gpu):\n",
        "        feature_tensor = feature_tensor.cuda()\n",
        "    \n",
        "    # get the output from the model\n",
        "    output, h = net(feature_tensor, h)\n",
        "    \n",
        "    # convert output probabilities to predicted class (0 or 1)\n",
        "    pred = torch.round(output.squeeze()) \n",
        "    # printing output value, before rounding\n",
        "    print('Prediction value, pre-rounding: {:.6f}'.format(output.item()))\n",
        "    \n",
        "    # print custom response\n",
        "    if(pred.item()==1):\n",
        "        print(\"Positive review detected!\")\n",
        "    else:\n",
        "        print(\"Negative review detected.\")\n",
        "        "
      ]
    },
    {
      "cell_type": "code",
      "execution_count": null,
      "metadata": {
        "colab": {
          "base_uri": "https://localhost:8080/"
        },
        "id": "mPBMZnDzszGA",
        "outputId": "180500fb-94c4-4509-8a94-084d682ab083"
      },
      "outputs": [
        {
          "name": "stdout",
          "output_type": "stream",
          "text": [
            "Prediction value, pre-rounding: 0.001823\n",
            "Negative review detected.\n"
          ]
        }
      ],
      "source": [
        "test_review = 'This film sucks, the actors are terrible and the plot is awful.'\n",
        "seq_length=200\n",
        "predict(net, test_review, seq_length)"
      ]
    },
    {
      "cell_type": "code",
      "execution_count": null,
      "metadata": {
        "colab": {
          "base_uri": "https://localhost:8080/"
        },
        "id": "H4NG0TvocGGN",
        "outputId": "142f8bbc-a8a3-476d-de36-3be51a8793a3"
      },
      "outputs": [
        {
          "name": "stdout",
          "output_type": "stream",
          "text": [
            "Prediction value, pre-rounding: 0.979462\n",
            "Positive review detected!\n"
          ]
        }
      ],
      "source": [
        "test_review = 'This movie has the best acting, I loved it.'\n",
        "seq_length=200\n",
        "predict(net, test_review, seq_length)"
      ]
    }
  ],
  "metadata": {
    "accelerator": "GPU",
    "colab": {
      "collapsed_sections": [],
      "provenance": []
    },
    "gpuClass": "standard",
    "kernelspec": {
      "display_name": "Python 3",
      "name": "python3"
    },
    "language_info": {
      "name": "python"
    }
  },
  "nbformat": 4,
  "nbformat_minor": 0
}
